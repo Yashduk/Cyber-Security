{
  "nbformat": 4,
  "nbformat_minor": 0,
  "metadata": {
    "colab": {
      "provenance": [],
      "authorship_tag": "ABX9TyPiNnyyrNiNVZhEvPbHkD4b",
      "include_colab_link": true
    },
    "kernelspec": {
      "name": "python3",
      "display_name": "Python 3"
    },
    "language_info": {
      "name": "python"
    }
  },
  "cells": [
    {
      "cell_type": "markdown",
      "metadata": {
        "id": "view-in-github",
        "colab_type": "text"
      },
      "source": [
        "<a href=\"https://colab.research.google.com/github/Yashduk/Cyber-Security/blob/main/Encryption_using_python.ipynb\" target=\"_parent\"><img src=\"https://colab.research.google.com/assets/colab-badge.svg\" alt=\"Open In Colab\"/></a>"
      ]
    },
    {
      "cell_type": "code",
      "source": [
        "!pip install pycryptodome\n",
        "from Crypto.Random import get_random_bytes\n",
        "from Crypto.Protocol.KDF import PBKDF2\n",
        "\n",
        "from Crypto.Cipher import AES\n",
        "from Crypto.Util.Padding import pad, unpad\n",
        "\n",
        "salt = b'D+:`f\\xd8\\xbc\\xc1\\x85\\x18yg\\xad8\\xa2\\xaa\\xdeb\\x11I\\xa2\\xeb8B\\xe6Wd\\xaa\\x85\\x16\\xc4='\n",
        "password = \"mypassword\"\n",
        "key = PBKDF2(password,salt,dkLen=32)\n",
        "\n",
        "message = b\"Hello Secret World!\"\n",
        "cipher = AES.new(key , AES.MODE_CBC)\n",
        "ciphered_data = cipher.encrypt(pad(message, AES.block_size))\n",
        "\n",
        "print(ciphered_data)\n",
        "\n",
        "with open('encrypted.bin', 'wb') as f:\n",
        "  f.write(cipher.iv)\n",
        "  f.write(ciphered_data)\n",
        "\n",
        "  with"
      ],
      "metadata": {
        "colab": {
          "base_uri": "https://localhost:8080/"
        },
        "id": "P-YN6jl0EY7W",
        "outputId": "161622c3-3d0e-418a-97f9-3676daa8a2bb"
      },
      "execution_count": null,
      "outputs": [
        {
          "output_type": "stream",
          "name": "stdout",
          "text": [
            "Requirement already satisfied: pycryptodome in /usr/local/lib/python3.10/dist-packages (3.20.0)\n",
            "b'}&5\\x85\\xf4\\xca\\xfc\\x81--\\x85!vL;\\x91$b\\xfaF\\x01W\\x923p\\x14O\\x14#z\\xd3G'\n"
          ]
        }
      ]
    },
    {
      "cell_type": "code",
      "source": [
        "from Crypto.Cipher import DES\n",
        "\n",
        "password = \"samson21\"\n",
        "key = b'mycipher'\n",
        "\n",
        "mode = DES.MODE_ECB\n",
        "cipher = DES.new(key, mode)\n",
        "enc_pass = cipher.encrypt(password.encode())\n",
        "\n",
        "print(\"Encrypted pass:\", enc_pass)\n",
        "\n",
        "dec_cipher = DES.new(key, mode)\n",
        "dec_pass = dec_cipher.decrypt(enc_pass).decode().strip()\n",
        "\n",
        "print(\"Decrypted pass:\", dec_pass)\n"
      ],
      "metadata": {
        "colab": {
          "base_uri": "https://localhost:8080/"
        },
        "id": "YMuvzN2hJ2dR",
        "outputId": "23cff257-21a9-4bdb-e654-364e5b7b7781"
      },
      "execution_count": null,
      "outputs": [
        {
          "output_type": "stream",
          "name": "stdout",
          "text": [
            "Encrypted pass: b'\\x86\\x82M\\xb1\\xb1\\x7f\\x13\\x8b'\n",
            "Decrypted pass: samson21\n"
          ]
        }
      ]
    },
    {
      "cell_type": "code",
      "source": [
        "!pip install rsa\n",
        "import rsa\n",
        "\n",
        "with open(\"public.pem\",\"rb\") as f:\n",
        "  public_key = rsa.PublicKey.load_pkcs1(f.read())\n",
        "\n",
        "with open(\"private.pem\",\"rb\") as f:\n",
        "  private_key = rsa.PrivateKey.load_pkcs1(f.read())\n",
        "\n",
        "message = \"Hello I am Yash\"\n",
        "encrypted_message = rsa.encrypt(message.encode(), public_key)\n",
        "\n",
        "with open(\"encrypted.message\",\"wb\") as f:\n",
        "  f.write(encrypted_message)\n",
        "\n"
      ],
      "metadata": {
        "colab": {
          "base_uri": "https://localhost:8080/"
        },
        "id": "iiYZJQbQJ6bN",
        "outputId": "1d9d54eb-b125-4917-ea90-340de32dd3e6"
      },
      "execution_count": null,
      "outputs": [
        {
          "output_type": "stream",
          "name": "stdout",
          "text": [
            "Requirement already satisfied: rsa in /usr/local/lib/python3.10/dist-packages (4.9)\n",
            "Requirement already satisfied: pyasn1>=0.1.3 in /usr/local/lib/python3.10/dist-packages (from rsa) (0.6.0)\n"
          ]
        }
      ]
    },
    {
      "cell_type": "code",
      "source": [
        "from cryptography.hazmat.primitives.asymmetric import ec\n",
        "from cryptography.hazmat.primitives import serialization\n",
        "from cryptography.hazmat.primitives import hashes\n",
        "from cryptography.hazmat.primitives.kdf.hkdf import HKDF\n",
        "from cryptography.hazmat.primitives.ciphers import Cipher, algorithms, modes\n",
        "\n",
        "# Generate an elliptic curve private key\n",
        "private_key = ec.generate_private_key(ec.SECP384R1())\n",
        "\n",
        "# Serialize the private key\n",
        "serialized_private = private_key.private_bytes(\n",
        "    encoding=serialization.Encoding.PEM,\n",
        "    format=serialization.PrivateFormat.PKCS8,\n",
        "    encryption_algorithm=serialization.NoEncryption()\n",
        ")\n",
        "\n",
        "# Get the public key\n",
        "public_key = private_key.public_key()\n",
        "\n",
        "# Serialize the public key\n",
        "serialized_public = public_key.public_bytes(\n",
        "    encoding=serialization.Encoding.PEM,\n",
        "    format=serialization.PublicFormat.SubjectPublicKeyInfo\n",
        ")\n",
        "\n",
        "# Perform key derivation using HKDF\n",
        "shared_key = private_key.exchange(ec.ECDH(), public_key)\n",
        "derived_key = HKDF(\n",
        "    algorithm=hashes.SHA256(),\n",
        "    length=32,\n",
        "    salt=None,\n",
        "    info=b'handshake data',\n",
        ").derive(shared_key)\n",
        "\n",
        "# Encrypt a message\n",
        "message = b'Secret message'\n",
        "cipher = Cipher(algorithms.AES(derived_key), modes.CTR(b'0'*16))\n",
        "encryptor = cipher.encryptor()\n",
        "ciphertext = encryptor.update(message) + encryptor.finalize()\n",
        "\n",
        "# Decrypt the message\n",
        "decryptor = cipher.decryptor()\n",
        "plaintext = decryptor.update(ciphertext) + decryptor.finalize()\n",
        "\n",
        "print(plaintext)"
      ],
      "metadata": {
        "colab": {
          "base_uri": "https://localhost:8080/"
        },
        "id": "7r8mlxS1STm2",
        "outputId": "387a0cba-23cb-410d-bcbc-832bef3239c8"
      },
      "execution_count": 4,
      "outputs": [
        {
          "output_type": "stream",
          "name": "stdout",
          "text": [
            "b'Secret message'\n"
          ]
        }
      ]
    },
    {
      "cell_type": "code",
      "source": [
        "import hashlib\n",
        "h=hashlib.new(\"SHA256\")\n",
        "correct_password = \"MyPassword123567\"\n",
        "\n",
        "h.update(correct_password.encode())\n",
        "\n",
        "password_hash = h.hexdigest()\n",
        "print(password_hash)\n",
        "\n",
        "user_input = \"MyPassword123567\"\n",
        "h= hashlib.new(\"SHA256\")\n",
        "h.update(user_input.encode())\n",
        "input_hash = h.hexdigest()\n",
        "\n",
        "print(input_hash == password_hash)\n",
        "\n"
      ],
      "metadata": {
        "colab": {
          "base_uri": "https://localhost:8080/"
        },
        "id": "pd3tpcThfIw7",
        "outputId": "3bd71852-f8f0-4200-85fa-18bae7356f7f"
      },
      "execution_count": 8,
      "outputs": [
        {
          "output_type": "stream",
          "name": "stdout",
          "text": [
            "420a451adbc68748b37a24ea8254365726bb27a0b4c707306d8da8182384f60f\n",
            "True\n"
          ]
        }
      ]
    }
  ]
}