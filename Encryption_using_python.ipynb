{
  "nbformat": 4,
  "nbformat_minor": 0,
  "metadata": {
    "colab": {
      "provenance": [],
      "authorship_tag": "ABX9TyNEHF/ZQofAe4tQlF1s4t5p",
      "include_colab_link": true
    },
    "kernelspec": {
      "name": "python3",
      "display_name": "Python 3"
    },
    "language_info": {
      "name": "python"
    }
  },
  "cells": [
    {
      "cell_type": "markdown",
      "metadata": {
        "id": "view-in-github",
        "colab_type": "text"
      },
      "source": [
        "<a href=\"https://colab.research.google.com/github/Yashduk/Cyber-Security/blob/main/Encryption_using_python.ipynb\" target=\"_parent\"><img src=\"https://colab.research.google.com/assets/colab-badge.svg\" alt=\"Open In Colab\"/></a>"
      ]
    },
    {
      "cell_type": "markdown",
      "source": [
        "## ***Implement any two symmetric encryption algorithms using Python. ***"
      ],
      "metadata": {
        "id": "goN-n0gLlYDr"
      }
    },
    {
      "cell_type": "code",
      "source": [
        "##Symmetric Encryption using AES(Advance Encryption System)\n",
        "\n",
        "!pip install pycryptodome\n",
        "from Crypto.Random import get_random_bytes\n",
        "from Crypto.Protocol.KDF import PBKDF2\n",
        "\n",
        "from Crypto.Cipher import AES\n",
        "from Crypto.Util.Padding import pad, unpad\n",
        "\n",
        "salt = b'D+:`f\\xd8\\xbc\\xc1\\x85\\x18yg\\xad8\\xa2\\xaa\\xdeb\\x11I\\xa2\\xeb8B\\xe6Wd\\xaa\\x85\\x16\\xc4='\n",
        "password = \"mypassword\"\n",
        "key = PBKDF2(password,salt,dkLen=32)\n",
        "\n",
        "message = b\"Hello Secret World!\"\n",
        "cipher = AES.new(key , AES.MODE_CBC)\n",
        "ciphered_data = cipher.encrypt(pad(message, AES.block_size))\n",
        "\n",
        "print(ciphered_data)\n",
        "\n",
        "with open('encrypted.bin', 'wb') as f:\n",
        "  f.write(cipher.iv)\n",
        "  f.write(ciphered_data)\n",
        "\n",
        ""
      ],
      "metadata": {
        "colab": {
          "base_uri": "https://localhost:8080/"
        },
        "id": "NYtQ8y6Alb16",
        "outputId": "455338d7-9527-4247-dfe5-7b0d00d051ba"
      },
      "execution_count": 11,
      "outputs": [
        {
          "output_type": "stream",
          "name": "stdout",
          "text": [
            "Requirement already satisfied: pycryptodome in /usr/local/lib/python3.10/dist-packages (3.20.0)\n",
            "b'\\x90b\\xa8\\xd6\\xa1BM\\xf6\\xa8\\x9a\\xbcU>A\\xaeHO\\xc4\\xfc\\x96+vFp8\\t\\xb0_\\x13\\x1f#S'\n"
          ]
        }
      ]
    },
    {
      "cell_type": "code",
      "source": [
        "##DES (Data Encryption Standards)\n",
        "\n",
        "from Crypto.Cipher import DES\n",
        "\n",
        "password = \"samson21\"\n",
        "key = b'mycipher'\n",
        "\n",
        "mode = DES.MODE_ECB\n",
        "cipher = DES.new(key, mode)\n",
        "enc_pass = cipher.encrypt(password.encode())\n",
        "\n",
        "print(\"Encrypted pass:\", enc_pass)\n",
        "\n",
        "dec_cipher = DES.new(key, mode)\n",
        "dec_pass = dec_cipher.decrypt(enc_pass).decode().strip()\n",
        "\n",
        "print(\"Decrypted pass:\", dec_pass)\n"
      ],
      "metadata": {
        "colab": {
          "base_uri": "https://localhost:8080/"
        },
        "id": "joMiOs9Wlym4",
        "outputId": "5b76831d-ba83-4328-905d-bfccbe7e97ca"
      },
      "execution_count": 12,
      "outputs": [
        {
          "output_type": "stream",
          "name": "stdout",
          "text": [
            "Encrypted pass: b'\\x86\\x82M\\xb1\\xb1\\x7f\\x13\\x8b'\n",
            "Decrypted pass: samson21\n"
          ]
        }
      ]
    },
    {
      "cell_type": "markdown",
      "source": [
        "## ***Implement any two Asymmetric encryption algorithms using Python.***"
      ],
      "metadata": {
        "id": "uQWUoby2l6K_"
      }
    },
    {
      "cell_type": "code",
      "source": [
        "##Asymmetric Encryption Using RSA ((Rivest–Shamir–Adleman)\n",
        "!pip install rsa\n",
        "import rsa\n",
        "\n",
        "with open(\"public.pem\",\"rb\") as f:\n",
        "  public_key = rsa.PublicKey.load_pkcs1(f.read())\n",
        "\n",
        "with open(\"private.pem\",\"rb\") as f:\n",
        "  private_key = rsa.PrivateKey.load_pkcs1(f.read())\n",
        "\n",
        "message = \"Hello I am Yash\"\n",
        "encrypted_message = rsa.encrypt(message.encode(), public_key)\n",
        "\n",
        "with open(\"encrypted.message\",\"wb\") as f:\n",
        "  f.write(encrypted_message)\n",
        "\n"
      ],
      "metadata": {
        "colab": {
          "base_uri": "https://localhost:8080/"
        },
        "id": "aeRi59fbl8kw",
        "outputId": "db5c69bb-da51-48be-9f27-1246445f3797"
      },
      "execution_count": 17,
      "outputs": [
        {
          "output_type": "stream",
          "name": "stdout",
          "text": [
            "Requirement already satisfied: rsa in /usr/local/lib/python3.10/dist-packages (4.9)\n",
            "Requirement already satisfied: pyasn1>=0.1.3 in /usr/local/lib/python3.10/dist-packages (from rsa) (0.6.0)\n"
          ]
        }
      ]
    },
    {
      "cell_type": "code",
      "source": [
        "##Elliptic Curve Cryptography\n",
        "\n",
        "from cryptography.hazmat.primitives.asymmetric import ec\n",
        "from cryptography.hazmat.primitives import serialization\n",
        "from cryptography.hazmat.primitives import hashes\n",
        "from cryptography.hazmat.primitives.kdf.hkdf import HKDF\n",
        "from cryptography.hazmat.primitives.ciphers import Cipher, algorithms, modes\n",
        "\n",
        "private_key = ec.generate_private_key(ec.SECP384R1())\n",
        "\n",
        "\n",
        "serialized_private = private_key.private_bytes(\n",
        "    encoding=serialization.Encoding.PEM,\n",
        "    format=serialization.PrivateFormat.PKCS8,\n",
        "    encryption_algorithm=serialization.NoEncryption()\n",
        ")\n",
        "\n",
        "\n",
        "public_key = private_key.public_key()\n",
        "serialized_public = public_key.public_bytes(\n",
        "    encoding=serialization.Encoding.PEM,\n",
        "    format=serialization.PublicFormat.SubjectPublicKeyInfo\n",
        ")\n",
        "\n",
        "\n",
        "shared_key = private_key.exchange(ec.ECDH(), public_key)\n",
        "\n",
        "\n",
        "derived_key = HKDF(\n",
        "    algorithm=hashes.SHA256(),\n",
        "    length=32,\n",
        "    salt=None,\n",
        "    info=b'handshake data',\n",
        ").derive(shared_key)\n",
        "\n",
        "\n",
        "message = b'Secret message'\n",
        "cipher = Cipher(algorithms.AES(derived_key), modes.CTR(b'0'*16))\n",
        "encryptor = cipher.encryptor()\n",
        "ciphertext = encryptor.update(message) + encryptor.finalize()\n",
        "\n",
        "\n",
        "decryptor = cipher.decryptor()\n",
        "plaintext = decryptor.update(ciphertext) + decryptor.finalize()\n",
        "\n",
        "print(plaintext)"
      ],
      "metadata": {
        "colab": {
          "base_uri": "https://localhost:8080/"
        },
        "id": "9dLdUyHfmk6U",
        "outputId": "c1dbc4c5-f26a-4653-f796-12d1eb3e3964"
      },
      "execution_count": 20,
      "outputs": [
        {
          "output_type": "stream",
          "name": "stdout",
          "text": [
            "b'Secret message'\n"
          ]
        }
      ]
    },
    {
      "cell_type": "markdown",
      "source": [
        "# ***Implement a hash function to compute the hash of a given string.***"
      ],
      "metadata": {
        "id": "LMuNGjswnAH1"
      }
    },
    {
      "cell_type": "code",
      "source": [
        "##Implementing hash function\n",
        "\n",
        "import hashlib\n",
        "h=hashlib.new(\"SHA256\")\n",
        "correct_password = \"MyPassword123567\"\n",
        "\n",
        "h.update(correct_password.encode())\n",
        "\n",
        "password_hash = h.hexdigest()\n",
        "print(password_hash)\n",
        "\n",
        "user_input = \"MyPassword123567\"\n",
        "h= hashlib.new(\"SHA256\")\n",
        "h.update(user_input.encode())\n",
        "input_hash = h.hexdigest()\n",
        "\n",
        "print(input_hash == password_hash)\n",
        "\n"
      ],
      "metadata": {
        "colab": {
          "base_uri": "https://localhost:8080/"
        },
        "id": "aI2hvQi_nEqN",
        "outputId": "1ef0ad08-64fc-4b9d-e48b-aa9d30e95fbb"
      },
      "execution_count": 21,
      "outputs": [
        {
          "output_type": "stream",
          "name": "stdout",
          "text": [
            "420a451adbc68748b37a24ea8254365726bb27a0b4c707306d8da8182384f60f\n",
            "True\n"
          ]
        }
      ]
    }
  ]
}