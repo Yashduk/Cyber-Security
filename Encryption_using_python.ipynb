{
  "nbformat": 4,
  "nbformat_minor": 0,
  "metadata": {
    "colab": {
      "provenance": [],
      "authorship_tag": "ABX9TyMQI+563yVCDGQD2UpL0AdQ",
      "include_colab_link": true
    },
    "kernelspec": {
      "name": "python3",
      "display_name": "Python 3"
    },
    "language_info": {
      "name": "python"
    }
  },
  "cells": [
    {
      "cell_type": "markdown",
      "metadata": {
        "id": "view-in-github",
        "colab_type": "text"
      },
      "source": [
        "<a href=\"https://colab.research.google.com/github/Yashduk/Cyber-Security/blob/main/Encryption_using_python.ipynb\" target=\"_parent\"><img src=\"https://colab.research.google.com/assets/colab-badge.svg\" alt=\"Open In Colab\"/></a>"
      ]
    },
    {
      "cell_type": "code",
      "source": [
        "!pip install pycryptodome\n",
        "from Crypto.Random import get_random_bytes\n",
        "from Crypto.Protocol.KDF import PBKDF2\n",
        "\n",
        "from Crypto.Cipher import AES\n",
        "from Crypto.Util.Padding import pad, unpad\n",
        "\n",
        "salt = b'D+:`f\\xd8\\xbc\\xc1\\x85\\x18yg\\xad8\\xa2\\xaa\\xdeb\\x11I\\xa2\\xeb8B\\xe6Wd\\xaa\\x85\\x16\\xc4='\n",
        "password = \"mypassword\"\n",
        "key = PBKDF2(password,salt,dkLen=32)\n",
        "\n",
        "message = b\"Hello Secret World!\"\n",
        "cipher = AES.new(key , AES.MODE_CBC)\n",
        "ciphered_data = cipher.encrypt(pad(message, AES.block_size))\n",
        "\n",
        "print(ciphered_data)\n",
        "\n",
        "with open('encrypted.bin', 'wb') as f:\n",
        "  f.write(cipher.iv)\n",
        "  f.write(ciphered_data)\n",
        "\n",
        "  with"
      ],
      "metadata": {
        "colab": {
          "base_uri": "https://localhost:8080/"
        },
        "id": "P-YN6jl0EY7W",
        "outputId": "161622c3-3d0e-418a-97f9-3676daa8a2bb"
      },
      "execution_count": null,
      "outputs": [
        {
          "output_type": "stream",
          "name": "stdout",
          "text": [
            "Requirement already satisfied: pycryptodome in /usr/local/lib/python3.10/dist-packages (3.20.0)\n",
            "b'}&5\\x85\\xf4\\xca\\xfc\\x81--\\x85!vL;\\x91$b\\xfaF\\x01W\\x923p\\x14O\\x14#z\\xd3G'\n"
          ]
        }
      ]
    },
    {
      "cell_type": "code",
      "source": [
        "from Crypto.Cipher import DES\n",
        "\n",
        "password = \"samson21\"\n",
        "key = b'mycipher'\n",
        "\n",
        "mode = DES.MODE_ECB\n",
        "cipher = DES.new(key, mode)\n",
        "enc_pass = cipher.encrypt(password.encode())\n",
        "\n",
        "print(\"Encrypted pass:\", enc_pass)\n",
        "\n",
        "dec_cipher = DES.new(key, mode)\n",
        "dec_pass = dec_cipher.decrypt(enc_pass).decode().strip()\n",
        "\n",
        "print(\"Decrypted pass:\", dec_pass)\n"
      ],
      "metadata": {
        "colab": {
          "base_uri": "https://localhost:8080/"
        },
        "id": "YMuvzN2hJ2dR",
        "outputId": "23cff257-21a9-4bdb-e654-364e5b7b7781"
      },
      "execution_count": null,
      "outputs": [
        {
          "output_type": "stream",
          "name": "stdout",
          "text": [
            "Encrypted pass: b'\\x86\\x82M\\xb1\\xb1\\x7f\\x13\\x8b'\n",
            "Decrypted pass: samson21\n"
          ]
        }
      ]
    },
    {
      "cell_type": "code",
      "source": [
        "!pip install rsa\n",
        "import rsa\n",
        "\n",
        "with open(\"public.pem\",\"rb\") as f:\n",
        "  public_key = rsa.PublicKey.load_pkcs1(f.read())\n",
        "\n",
        "with open(\"private.pem\",\"rb\") as f:\n",
        "  private_key = rsa.PrivateKey.load_pkcs1(f.read())\n",
        "\n",
        "message = \"Hello I am Yash\"\n",
        "encrypted_message = rsa.encrypt(message.encode(), public_key)\n",
        "\n",
        "with open(\"encrypted.message\",\"wb\") as f:\n",
        "  f.write(encrypted_message)\n",
        "\n"
      ],
      "metadata": {
        "colab": {
          "base_uri": "https://localhost:8080/"
        },
        "id": "iiYZJQbQJ6bN",
        "outputId": "1d9d54eb-b125-4917-ea90-340de32dd3e6"
      },
      "execution_count": 6,
      "outputs": [
        {
          "output_type": "stream",
          "name": "stdout",
          "text": [
            "Requirement already satisfied: rsa in /usr/local/lib/python3.10/dist-packages (4.9)\n",
            "Requirement already satisfied: pyasn1>=0.1.3 in /usr/local/lib/python3.10/dist-packages (from rsa) (0.6.0)\n"
          ]
        }
      ]
    }
  ]
}